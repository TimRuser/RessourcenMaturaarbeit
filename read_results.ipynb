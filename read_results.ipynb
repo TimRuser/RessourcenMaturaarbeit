{
 "cells": [
  {
   "cell_type": "code",
   "execution_count": 5,
   "metadata": {},
   "outputs": [
    {
     "name": "stdout",
     "output_type": "stream",
     "text": [
      "Durchschnittliche Genauigkeit: 0.982727935802\n",
      "Varianz der Genauigkeit: 1.4384857324496824e-05\n",
      "Standardabweichung der Genauigkeit: 0.37927374447088774%\n",
      "Durchschnittliche TPR: 0.98357819455\n",
      "Varianz der TPR: 2.770818643187434e-05\n",
      "Standardabweichung der TPR: 0.5263856612016928%\n"
     ]
    }
   ],
   "source": [
    "import pandas as pd\n",
    "import math\n",
    "\n",
    "file_path = 'result.json'\n",
    "df = pd.read_json(file_path)\n",
    "\n",
    "required_columns = ['Accuracy', 'Recall']\n",
    "if all(column in df.columns for column in required_columns):\n",
    "\n",
    "    avg_accuracy = df['Accuracy'].mean()\n",
    "    avg_recall = df['Recall'].mean()\n",
    "\n",
    "    var_accuracy = df['Accuracy'].var()\n",
    "    var_recall = df['Recall'].var()\n",
    "\n",
    "    stab_accuracy = math.sqrt(var_accuracy)\n",
    "    stab_recall = math.sqrt(var_recall)\n",
    "\n",
    "    print(f\"Durchschnittliche Genauigkeit: {avg_accuracy}\")\n",
    "    print(f\"Varianz der Genauigkeit: {var_accuracy}\")\n",
    "    print(f\"Standardabweichung der Genauigkeit: {stab_accuracy * 100}%\")\n",
    "    print(f\"Durchschnittliche TPR: {avg_recall}\")\n",
    "    print(f\"Varianz der TPR: {var_recall}\")\n",
    "    print(f\"Standardabweichung der TPR: {stab_recall * 100}%\")\n"
   ]
  },
  {
   "cell_type": "code",
   "execution_count": null,
   "metadata": {},
   "outputs": [],
   "source": []
  }
 ],
 "metadata": {
  "kernelspec": {
   "display_name": "Python 3",
   "language": "python",
   "name": "python3"
  },
  "language_info": {
   "codemirror_mode": {
    "name": "ipython",
    "version": 3
   },
   "file_extension": ".py",
   "mimetype": "text/x-python",
   "name": "python",
   "nbconvert_exporter": "python",
   "pygments_lexer": "ipython3",
   "version": "3.11.8"
  }
 },
 "nbformat": 4,
 "nbformat_minor": 2
}
